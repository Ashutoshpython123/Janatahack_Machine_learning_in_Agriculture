{
 "cells": [
  {
   "cell_type": "markdown",
   "metadata": {},
   "source": [
    "## jantahack: Machine learning in Agriculture"
   ]
  },
  {
   "cell_type": "markdown",
   "metadata": {},
   "source": [
    "### import libraries"
   ]
  },
  {
   "cell_type": "code",
   "execution_count": 373,
   "metadata": {},
   "outputs": [],
   "source": [
    "import numpy as np\n",
    "import pandas as pd\n",
    "import seaborn as sns\n",
    "import matplotlib.pyplot as plt\n",
    "from scipy import stats\n",
    "\n",
    "from sklearn.preprocessing import MinMaxScaler\n",
    "from sklearn import metrics\n",
    "from sklearn.metrics import confusion_matrix\n",
    "from sklearn.model_selection import train_test_split\n",
    "\n",
    "from sklearn.linear_model import LogisticRegression\n",
    "from sklearn.ensemble import RandomForestClassifier\n",
    "from sklearn.ensemble import ExtraTreesClassifier\n",
    "from sklearn.svm import LinearSVC, SVC\n",
    "from sklearn.neighbors import KNeighborsClassifier\n",
    "from sklearn.naive_bayes import GaussianNB\n",
    "from sklearn.linear_model import SGDClassifier\n",
    "from sklearn.tree import DecisionTreeClassifier\n",
    "from sklearn.linear_model import Perceptron"
   ]
  },
  {
   "cell_type": "code",
   "execution_count": 374,
   "metadata": {},
   "outputs": [
    {
     "data": {
      "text/html": [
       "<div>\n",
       "<style scoped>\n",
       "    .dataframe tbody tr th:only-of-type {\n",
       "        vertical-align: middle;\n",
       "    }\n",
       "\n",
       "    .dataframe tbody tr th {\n",
       "        vertical-align: top;\n",
       "    }\n",
       "\n",
       "    .dataframe thead th {\n",
       "        text-align: right;\n",
       "    }\n",
       "</style>\n",
       "<table border=\"1\" class=\"dataframe\">\n",
       "  <thead>\n",
       "    <tr style=\"text-align: right;\">\n",
       "      <th></th>\n",
       "      <th>ID</th>\n",
       "      <th>Estimated_Insects_Count</th>\n",
       "      <th>Crop_Type</th>\n",
       "      <th>Soil_Type</th>\n",
       "      <th>Pesticide_Use_Category</th>\n",
       "      <th>Number_Doses_Week</th>\n",
       "      <th>Number_Weeks_Used</th>\n",
       "      <th>Number_Weeks_Quit</th>\n",
       "      <th>Season</th>\n",
       "    </tr>\n",
       "  </thead>\n",
       "  <tbody>\n",
       "    <tr>\n",
       "      <th>0</th>\n",
       "      <td>F00000002</td>\n",
       "      <td>188</td>\n",
       "      <td>1</td>\n",
       "      <td>1</td>\n",
       "      <td>1</td>\n",
       "      <td>0</td>\n",
       "      <td>NaN</td>\n",
       "      <td>0</td>\n",
       "      <td>2</td>\n",
       "    </tr>\n",
       "    <tr>\n",
       "      <th>1</th>\n",
       "      <td>F00000007</td>\n",
       "      <td>410</td>\n",
       "      <td>1</td>\n",
       "      <td>1</td>\n",
       "      <td>1</td>\n",
       "      <td>0</td>\n",
       "      <td>0.0</td>\n",
       "      <td>0</td>\n",
       "      <td>2</td>\n",
       "    </tr>\n",
       "    <tr>\n",
       "      <th>2</th>\n",
       "      <td>F00000011</td>\n",
       "      <td>626</td>\n",
       "      <td>1</td>\n",
       "      <td>0</td>\n",
       "      <td>1</td>\n",
       "      <td>0</td>\n",
       "      <td>0.0</td>\n",
       "      <td>0</td>\n",
       "      <td>2</td>\n",
       "    </tr>\n",
       "    <tr>\n",
       "      <th>3</th>\n",
       "      <td>F00000013</td>\n",
       "      <td>731</td>\n",
       "      <td>1</td>\n",
       "      <td>0</td>\n",
       "      <td>1</td>\n",
       "      <td>0</td>\n",
       "      <td>0.0</td>\n",
       "      <td>0</td>\n",
       "      <td>2</td>\n",
       "    </tr>\n",
       "    <tr>\n",
       "      <th>4</th>\n",
       "      <td>F00000014</td>\n",
       "      <td>789</td>\n",
       "      <td>0</td>\n",
       "      <td>0</td>\n",
       "      <td>1</td>\n",
       "      <td>0</td>\n",
       "      <td>0.0</td>\n",
       "      <td>0</td>\n",
       "      <td>1</td>\n",
       "    </tr>\n",
       "  </tbody>\n",
       "</table>\n",
       "</div>"
      ],
      "text/plain": [
       "          ID  Estimated_Insects_Count  Crop_Type  Soil_Type  \\\n",
       "0  F00000002                      188          1          1   \n",
       "1  F00000007                      410          1          1   \n",
       "2  F00000011                      626          1          0   \n",
       "3  F00000013                      731          1          0   \n",
       "4  F00000014                      789          0          0   \n",
       "\n",
       "   Pesticide_Use_Category  Number_Doses_Week  Number_Weeks_Used  \\\n",
       "0                       1                  0                NaN   \n",
       "1                       1                  0                0.0   \n",
       "2                       1                  0                0.0   \n",
       "3                       1                  0                0.0   \n",
       "4                       1                  0                0.0   \n",
       "\n",
       "   Number_Weeks_Quit  Season  \n",
       "0                  0       2  \n",
       "1                  0       2  \n",
       "2                  0       2  \n",
       "3                  0       2  \n",
       "4                  0       1  "
      ]
     },
     "execution_count": 374,
     "metadata": {},
     "output_type": "execute_result"
    }
   ],
   "source": [
    "#load data\n",
    "train = pd.read_csv('train_yaOffsB.csv')\n",
    "test = pd.read_csv('test_pFkWwen.csv')\n",
    "test.head()"
   ]
  },
  {
   "cell_type": "code",
   "execution_count": 375,
   "metadata": {},
   "outputs": [
    {
     "data": {
      "text/html": [
       "<div>\n",
       "<style scoped>\n",
       "    .dataframe tbody tr th:only-of-type {\n",
       "        vertical-align: middle;\n",
       "    }\n",
       "\n",
       "    .dataframe tbody tr th {\n",
       "        vertical-align: top;\n",
       "    }\n",
       "\n",
       "    .dataframe thead th {\n",
       "        text-align: right;\n",
       "    }\n",
       "</style>\n",
       "<table border=\"1\" class=\"dataframe\">\n",
       "  <thead>\n",
       "    <tr style=\"text-align: right;\">\n",
       "      <th></th>\n",
       "      <th>ID</th>\n",
       "      <th>Estimated_Insects_Count</th>\n",
       "      <th>Crop_Type</th>\n",
       "      <th>Soil_Type</th>\n",
       "      <th>Pesticide_Use_Category</th>\n",
       "      <th>Number_Doses_Week</th>\n",
       "      <th>Number_Weeks_Used</th>\n",
       "      <th>Number_Weeks_Quit</th>\n",
       "      <th>Season</th>\n",
       "      <th>Crop_Damage</th>\n",
       "    </tr>\n",
       "  </thead>\n",
       "  <tbody>\n",
       "    <tr>\n",
       "      <th>0</th>\n",
       "      <td>F00000001</td>\n",
       "      <td>188</td>\n",
       "      <td>1</td>\n",
       "      <td>0</td>\n",
       "      <td>1</td>\n",
       "      <td>0</td>\n",
       "      <td>0.0</td>\n",
       "      <td>0</td>\n",
       "      <td>1</td>\n",
       "      <td>0</td>\n",
       "    </tr>\n",
       "    <tr>\n",
       "      <th>1</th>\n",
       "      <td>F00000003</td>\n",
       "      <td>209</td>\n",
       "      <td>1</td>\n",
       "      <td>0</td>\n",
       "      <td>1</td>\n",
       "      <td>0</td>\n",
       "      <td>0.0</td>\n",
       "      <td>0</td>\n",
       "      <td>2</td>\n",
       "      <td>1</td>\n",
       "    </tr>\n",
       "    <tr>\n",
       "      <th>2</th>\n",
       "      <td>F00000004</td>\n",
       "      <td>257</td>\n",
       "      <td>1</td>\n",
       "      <td>0</td>\n",
       "      <td>1</td>\n",
       "      <td>0</td>\n",
       "      <td>0.0</td>\n",
       "      <td>0</td>\n",
       "      <td>2</td>\n",
       "      <td>1</td>\n",
       "    </tr>\n",
       "    <tr>\n",
       "      <th>3</th>\n",
       "      <td>F00000005</td>\n",
       "      <td>257</td>\n",
       "      <td>1</td>\n",
       "      <td>1</td>\n",
       "      <td>1</td>\n",
       "      <td>0</td>\n",
       "      <td>0.0</td>\n",
       "      <td>0</td>\n",
       "      <td>2</td>\n",
       "      <td>1</td>\n",
       "    </tr>\n",
       "    <tr>\n",
       "      <th>4</th>\n",
       "      <td>F00000006</td>\n",
       "      <td>342</td>\n",
       "      <td>1</td>\n",
       "      <td>0</td>\n",
       "      <td>1</td>\n",
       "      <td>0</td>\n",
       "      <td>0.0</td>\n",
       "      <td>0</td>\n",
       "      <td>2</td>\n",
       "      <td>1</td>\n",
       "    </tr>\n",
       "  </tbody>\n",
       "</table>\n",
       "</div>"
      ],
      "text/plain": [
       "          ID  Estimated_Insects_Count  Crop_Type  Soil_Type  \\\n",
       "0  F00000001                      188          1          0   \n",
       "1  F00000003                      209          1          0   \n",
       "2  F00000004                      257          1          0   \n",
       "3  F00000005                      257          1          1   \n",
       "4  F00000006                      342          1          0   \n",
       "\n",
       "   Pesticide_Use_Category  Number_Doses_Week  Number_Weeks_Used  \\\n",
       "0                       1                  0                0.0   \n",
       "1                       1                  0                0.0   \n",
       "2                       1                  0                0.0   \n",
       "3                       1                  0                0.0   \n",
       "4                       1                  0                0.0   \n",
       "\n",
       "   Number_Weeks_Quit  Season  Crop_Damage  \n",
       "0                  0       1            0  \n",
       "1                  0       2            1  \n",
       "2                  0       2            1  \n",
       "3                  0       2            1  \n",
       "4                  0       2            1  "
      ]
     },
     "execution_count": 375,
     "metadata": {},
     "output_type": "execute_result"
    }
   ],
   "source": [
    "train.head()"
   ]
  },
  {
   "cell_type": "code",
   "execution_count": 376,
   "metadata": {},
   "outputs": [
    {
     "name": "stdout",
     "output_type": "stream",
     "text": [
      "shape of train =  (88858, 10)\n",
      "shape of test =  (59310, 9)\n"
     ]
    }
   ],
   "source": [
    "print('shape of train = ',train.shape)\n",
    "print('shape of test = ', test.shape)"
   ]
  },
  {
   "cell_type": "markdown",
   "metadata": {},
   "source": [
    "### handling null values"
   ]
  },
  {
   "cell_type": "code",
   "execution_count": 377,
   "metadata": {},
   "outputs": [],
   "source": [
    "train1 = train.copy()\n",
    "test1 = test.copy()"
   ]
  },
  {
   "cell_type": "code",
   "execution_count": 378,
   "metadata": {},
   "outputs": [
    {
     "data": {
      "text/plain": [
       "ID                            0\n",
       "Estimated_Insects_Count       0\n",
       "Crop_Type                     0\n",
       "Soil_Type                     0\n",
       "Pesticide_Use_Category        0\n",
       "Number_Doses_Week             0\n",
       "Number_Weeks_Used          9000\n",
       "Number_Weeks_Quit             0\n",
       "Season                        0\n",
       "Crop_Damage                   0\n",
       "dtype: int64"
      ]
     },
     "execution_count": 378,
     "metadata": {},
     "output_type": "execute_result"
    }
   ],
   "source": [
    "train1.isnull().sum()"
   ]
  },
  {
   "cell_type": "code",
   "execution_count": 379,
   "metadata": {},
   "outputs": [
    {
     "data": {
      "text/plain": [
       "ID                            0\n",
       "Estimated_Insects_Count       0\n",
       "Crop_Type                     0\n",
       "Soil_Type                     0\n",
       "Pesticide_Use_Category        0\n",
       "Number_Doses_Week             0\n",
       "Number_Weeks_Used          5893\n",
       "Number_Weeks_Quit             0\n",
       "Season                        0\n",
       "dtype: int64"
      ]
     },
     "execution_count": 379,
     "metadata": {},
     "output_type": "execute_result"
    }
   ],
   "source": [
    "test1.isnull().sum()"
   ]
  },
  {
   "cell_type": "markdown",
   "metadata": {},
   "source": [
    "only one column has null values in train and test datasets both. first we want to check the correlation of features with each other and also with target then we decide to fill the null values according to this relation."
   ]
  },
  {
   "cell_type": "code",
   "execution_count": 380,
   "metadata": {},
   "outputs": [],
   "source": [
    "train1_corr = train1.drop('ID', axis=1).corr().abs().unstack().sort_values(\n",
    "    kind='quicksort', ascending=False).reset_index()\n",
    "#rename column\n",
    "train1_corr.rename(columns=\n",
    "        {'level_0':'Feature1', 'level_1' : 'Feature2', 0:'Correlation_coefficient'},inplace=True)"
   ]
  },
  {
   "cell_type": "code",
   "execution_count": 381,
   "metadata": {},
   "outputs": [],
   "source": [
    "train1_corre = train1_corr.drop(train1_corr[train1_corr.Correlation_coefficient == 1.0].index)"
   ]
  },
  {
   "cell_type": "code",
   "execution_count": 382,
   "metadata": {},
   "outputs": [
    {
     "data": {
      "text/html": [
       "<div>\n",
       "<style scoped>\n",
       "    .dataframe tbody tr th:only-of-type {\n",
       "        vertical-align: middle;\n",
       "    }\n",
       "\n",
       "    .dataframe tbody tr th {\n",
       "        vertical-align: top;\n",
       "    }\n",
       "\n",
       "    .dataframe thead th {\n",
       "        text-align: right;\n",
       "    }\n",
       "</style>\n",
       "<table border=\"1\" class=\"dataframe\">\n",
       "  <thead>\n",
       "    <tr style=\"text-align: right;\">\n",
       "      <th></th>\n",
       "      <th>Feature1</th>\n",
       "      <th>Feature2</th>\n",
       "      <th>Correlation_coefficient</th>\n",
       "    </tr>\n",
       "  </thead>\n",
       "  <tbody>\n",
       "    <tr>\n",
       "      <th>9</th>\n",
       "      <td>Number_Weeks_Quit</td>\n",
       "      <td>Pesticide_Use_Category</td>\n",
       "      <td>0.554169</td>\n",
       "    </tr>\n",
       "    <tr>\n",
       "      <th>10</th>\n",
       "      <td>Pesticide_Use_Category</td>\n",
       "      <td>Number_Weeks_Quit</td>\n",
       "      <td>0.554169</td>\n",
       "    </tr>\n",
       "    <tr>\n",
       "      <th>11</th>\n",
       "      <td>Number_Weeks_Quit</td>\n",
       "      <td>Number_Weeks_Used</td>\n",
       "      <td>0.449007</td>\n",
       "    </tr>\n",
       "    <tr>\n",
       "      <th>12</th>\n",
       "      <td>Number_Weeks_Used</td>\n",
       "      <td>Number_Weeks_Quit</td>\n",
       "      <td>0.449007</td>\n",
       "    </tr>\n",
       "    <tr>\n",
       "      <th>13</th>\n",
       "      <td>Estimated_Insects_Count</td>\n",
       "      <td>Number_Weeks_Used</td>\n",
       "      <td>0.434925</td>\n",
       "    </tr>\n",
       "    <tr>\n",
       "      <th>14</th>\n",
       "      <td>Number_Weeks_Used</td>\n",
       "      <td>Estimated_Insects_Count</td>\n",
       "      <td>0.434925</td>\n",
       "    </tr>\n",
       "    <tr>\n",
       "      <th>15</th>\n",
       "      <td>Number_Weeks_Used</td>\n",
       "      <td>Pesticide_Use_Category</td>\n",
       "      <td>0.344131</td>\n",
       "    </tr>\n",
       "    <tr>\n",
       "      <th>16</th>\n",
       "      <td>Pesticide_Use_Category</td>\n",
       "      <td>Number_Weeks_Used</td>\n",
       "      <td>0.344131</td>\n",
       "    </tr>\n",
       "    <tr>\n",
       "      <th>17</th>\n",
       "      <td>Estimated_Insects_Count</td>\n",
       "      <td>Number_Weeks_Quit</td>\n",
       "      <td>0.299279</td>\n",
       "    </tr>\n",
       "    <tr>\n",
       "      <th>18</th>\n",
       "      <td>Number_Weeks_Quit</td>\n",
       "      <td>Estimated_Insects_Count</td>\n",
       "      <td>0.299279</td>\n",
       "    </tr>\n",
       "    <tr>\n",
       "      <th>19</th>\n",
       "      <td>Crop_Type</td>\n",
       "      <td>Soil_Type</td>\n",
       "      <td>0.287372</td>\n",
       "    </tr>\n",
       "    <tr>\n",
       "      <th>20</th>\n",
       "      <td>Soil_Type</td>\n",
       "      <td>Crop_Type</td>\n",
       "      <td>0.287372</td>\n",
       "    </tr>\n",
       "    <tr>\n",
       "      <th>21</th>\n",
       "      <td>Pesticide_Use_Category</td>\n",
       "      <td>Crop_Type</td>\n",
       "      <td>0.235779</td>\n",
       "    </tr>\n",
       "    <tr>\n",
       "      <th>22</th>\n",
       "      <td>Crop_Type</td>\n",
       "      <td>Pesticide_Use_Category</td>\n",
       "      <td>0.235779</td>\n",
       "    </tr>\n",
       "    <tr>\n",
       "      <th>23</th>\n",
       "      <td>Crop_Type</td>\n",
       "      <td>Number_Weeks_Quit</td>\n",
       "      <td>0.233394</td>\n",
       "    </tr>\n",
       "    <tr>\n",
       "      <th>24</th>\n",
       "      <td>Number_Weeks_Quit</td>\n",
       "      <td>Crop_Type</td>\n",
       "      <td>0.233394</td>\n",
       "    </tr>\n",
       "    <tr>\n",
       "      <th>25</th>\n",
       "      <td>Crop_Damage</td>\n",
       "      <td>Number_Weeks_Used</td>\n",
       "      <td>0.232192</td>\n",
       "    </tr>\n",
       "    <tr>\n",
       "      <th>26</th>\n",
       "      <td>Number_Weeks_Used</td>\n",
       "      <td>Crop_Damage</td>\n",
       "      <td>0.232192</td>\n",
       "    </tr>\n",
       "    <tr>\n",
       "      <th>27</th>\n",
       "      <td>Estimated_Insects_Count</td>\n",
       "      <td>Crop_Damage</td>\n",
       "      <td>0.202888</td>\n",
       "    </tr>\n",
       "    <tr>\n",
       "      <th>28</th>\n",
       "      <td>Crop_Damage</td>\n",
       "      <td>Estimated_Insects_Count</td>\n",
       "      <td>0.202888</td>\n",
       "    </tr>\n",
       "  </tbody>\n",
       "</table>\n",
       "</div>"
      ],
      "text/plain": [
       "                   Feature1                 Feature2  Correlation_coefficient\n",
       "9         Number_Weeks_Quit   Pesticide_Use_Category                 0.554169\n",
       "10   Pesticide_Use_Category        Number_Weeks_Quit                 0.554169\n",
       "11        Number_Weeks_Quit        Number_Weeks_Used                 0.449007\n",
       "12        Number_Weeks_Used        Number_Weeks_Quit                 0.449007\n",
       "13  Estimated_Insects_Count        Number_Weeks_Used                 0.434925\n",
       "14        Number_Weeks_Used  Estimated_Insects_Count                 0.434925\n",
       "15        Number_Weeks_Used   Pesticide_Use_Category                 0.344131\n",
       "16   Pesticide_Use_Category        Number_Weeks_Used                 0.344131\n",
       "17  Estimated_Insects_Count        Number_Weeks_Quit                 0.299279\n",
       "18        Number_Weeks_Quit  Estimated_Insects_Count                 0.299279\n",
       "19                Crop_Type                Soil_Type                 0.287372\n",
       "20                Soil_Type                Crop_Type                 0.287372\n",
       "21   Pesticide_Use_Category                Crop_Type                 0.235779\n",
       "22                Crop_Type   Pesticide_Use_Category                 0.235779\n",
       "23                Crop_Type        Number_Weeks_Quit                 0.233394\n",
       "24        Number_Weeks_Quit                Crop_Type                 0.233394\n",
       "25              Crop_Damage        Number_Weeks_Used                 0.232192\n",
       "26        Number_Weeks_Used              Crop_Damage                 0.232192\n",
       "27  Estimated_Insects_Count              Crop_Damage                 0.202888\n",
       "28              Crop_Damage  Estimated_Insects_Count                 0.202888"
      ]
     },
     "execution_count": 382,
     "metadata": {},
     "output_type": "execute_result"
    }
   ],
   "source": [
    "train1_corre[train1_corre.Correlation_coefficient > 0.2]"
   ]
  },
  {
   "cell_type": "code",
   "execution_count": 383,
   "metadata": {},
   "outputs": [],
   "source": [
    "train1['Number_Weeks_Used'] = train1['Number_Weeks_Used'].fillna(train1['Number_Weeks_Used'].mode()[0])\n",
    "test1['Number_Weeks_Used'] = test1['Number_Weeks_Used'].fillna(test1['Number_Weeks_Used'].mode()[0])"
   ]
  },
  {
   "cell_type": "code",
   "execution_count": 384,
   "metadata": {},
   "outputs": [
    {
     "data": {
      "text/plain": [
       "ID                         0\n",
       "Estimated_Insects_Count    0\n",
       "Crop_Type                  0\n",
       "Soil_Type                  0\n",
       "Pesticide_Use_Category     0\n",
       "Number_Doses_Week          0\n",
       "Number_Weeks_Used          0\n",
       "Number_Weeks_Quit          0\n",
       "Season                     0\n",
       "Crop_Damage                0\n",
       "dtype: int64"
      ]
     },
     "execution_count": 384,
     "metadata": {},
     "output_type": "execute_result"
    }
   ],
   "source": [
    "train1.isnull().sum()"
   ]
  },
  {
   "cell_type": "code",
   "execution_count": 385,
   "metadata": {},
   "outputs": [
    {
     "data": {
      "text/plain": [
       "ID                         0\n",
       "Estimated_Insects_Count    0\n",
       "Crop_Type                  0\n",
       "Soil_Type                  0\n",
       "Pesticide_Use_Category     0\n",
       "Number_Doses_Week          0\n",
       "Number_Weeks_Used          0\n",
       "Number_Weeks_Quit          0\n",
       "Season                     0\n",
       "dtype: int64"
      ]
     },
     "execution_count": 385,
     "metadata": {},
     "output_type": "execute_result"
    }
   ],
   "source": [
    "test1.isnull().sum()"
   ]
  },
  {
   "cell_type": "code",
   "execution_count": 386,
   "metadata": {},
   "outputs": [],
   "source": [
    "train1 = train1.drop('ID', axis=1)\n",
    "test1 = test1.drop('ID', axis=1)"
   ]
  },
  {
   "cell_type": "code",
   "execution_count": 387,
   "metadata": {},
   "outputs": [
    {
     "name": "stdout",
     "output_type": "stream",
     "text": [
      "(88858, 9) (59310, 8)\n"
     ]
    }
   ],
   "source": [
    "print(train1.shape, test1.shape)"
   ]
  },
  {
   "cell_type": "code",
   "execution_count": null,
   "metadata": {},
   "outputs": [],
   "source": []
  },
  {
   "cell_type": "markdown",
   "metadata": {},
   "source": [
    "### EDA"
   ]
  },
  {
   "cell_type": "code",
   "execution_count": 388,
   "metadata": {},
   "outputs": [],
   "source": [
    "train2 = train1.copy()\n",
    "test2 = test1.copy()"
   ]
  },
  {
   "cell_type": "code",
   "execution_count": 389,
   "metadata": {},
   "outputs": [
    {
     "name": "stdout",
     "output_type": "stream",
     "text": [
      "<class 'pandas.core.frame.DataFrame'>\n",
      "RangeIndex: 88858 entries, 0 to 88857\n",
      "Data columns (total 9 columns):\n",
      "Estimated_Insects_Count    88858 non-null int64\n",
      "Crop_Type                  88858 non-null int64\n",
      "Soil_Type                  88858 non-null int64\n",
      "Pesticide_Use_Category     88858 non-null int64\n",
      "Number_Doses_Week          88858 non-null int64\n",
      "Number_Weeks_Used          88858 non-null float64\n",
      "Number_Weeks_Quit          88858 non-null int64\n",
      "Season                     88858 non-null int64\n",
      "Crop_Damage                88858 non-null int64\n",
      "dtypes: float64(1), int64(8)\n",
      "memory usage: 6.1 MB\n"
     ]
    }
   ],
   "source": [
    "train2.info()"
   ]
  },
  {
   "cell_type": "code",
   "execution_count": 390,
   "metadata": {},
   "outputs": [
    {
     "name": "stdout",
     "output_type": "stream",
     "text": [
      "unique value in each feature\n",
      "Estimated_Insects_Count = 71\n",
      "Crop_Type = 2\n",
      "Soil_Type = 2\n",
      "Pesticide_Use_Category = 3\n",
      "Number_Doses_Week = 20\n",
      "Number_Weeks_Used = 64\n",
      "Number_Weeks_Quit = 51\n",
      "Season = 3\n",
      "Crop_Damage = 3\n"
     ]
    }
   ],
   "source": [
    "#calculate no. of unique values in datasets\n",
    "print('unique value in each feature')\n",
    "for feature in train2.columns:\n",
    "    print('{} = {}'.format(feature, len(train2[feature].unique())))"
   ]
  },
  {
   "cell_type": "code",
   "execution_count": 391,
   "metadata": {},
   "outputs": [
    {
     "data": {
      "text/plain": [
       "0    74238\n",
       "1    12307\n",
       "2     2313\n",
       "Name: Crop_Damage, dtype: int64"
      ]
     },
     "execution_count": 391,
     "metadata": {},
     "output_type": "execute_result"
    }
   ],
   "source": [
    "# 0 >> alive\n",
    "# 1 >> damage due to other causes\n",
    "# 2 >> damage due to Pesticide\n",
    "train2.Crop_Damage.value_counts()"
   ]
  },
  {
   "cell_type": "code",
   "execution_count": 392,
   "metadata": {},
   "outputs": [],
   "source": [
    "train2 = train2.astype({'Crop_Type':'object','Soil_Type':'object',\n",
    "                       'Pesticide_Use_Category':'object','Season':'object'})\n",
    "test2 = test2.astype({'Crop_Type':'object','Soil_Type':'object',\n",
    "                       'Pesticide_Use_Category':'object','Season':'object'})"
   ]
  },
  {
   "cell_type": "markdown",
   "metadata": {},
   "source": [
    "#### categorical feature"
   ]
  },
  {
   "cell_type": "code",
   "execution_count": 393,
   "metadata": {},
   "outputs": [
    {
     "data": {
      "text/plain": [
       "['Crop_Type', 'Soil_Type', 'Pesticide_Use_Category', 'Season']"
      ]
     },
     "execution_count": 393,
     "metadata": {},
     "output_type": "execute_result"
    }
   ],
   "source": [
    "categorical_feature = [f for f in train2.columns if train2[f].dtype == 'object']\n",
    "categorical_feature"
   ]
  },
  {
   "cell_type": "code",
   "execution_count": 394,
   "metadata": {},
   "outputs": [
    {
     "data": {
      "image/png": "[encoded data removed]",
      "text/plain": [
       "<Figure size 432x288 with 1 Axes>"
      ]
     },
     "metadata": {
      "needs_background": "light"
     },
     "output_type": "display_data"
    },
    {
     "data": {
      "image/png": "[encoded data removed]",
      "text/plain": [
       "<Figure size 432x288 with 1 Axes>"
      ]
     },
     "metadata": {
      "needs_background": "light"
     },
     "output_type": "display_data"
    },
    {
     "data": {
      "image/png": "[encoded data removed]",
      "text/plain": [
       "<Figure size 432x288 with 1 Axes>"
      ]
     },
     "metadata": {
      "needs_background": "light"
     },
     "output_type": "display_data"
    },
    {
     "data": {
      "image/png": "[encoded data removed]",
      "text/plain": [
       "<Figure size 432x288 with 1 Axes>"
      ]
     },
     "metadata": {
      "needs_background": "light"
     },
     "output_type": "display_data"
    }
   ],
   "source": [
    "#visualize count plot\n",
    "for feature in categorical_feature:\n",
    "    sns.countplot(x=train2[feature])\n",
    "    plt.show()"
   ]
  },
  {
   "cell_type": "markdown",
   "metadata": {},
   "source": [
    "#### numerical feature"
   ]
  },
  {
   "cell_type": "code",
   "execution_count": 395,
   "metadata": {},
   "outputs": [
    {
     "data": {
      "text/plain": [
       "['Estimated_Insects_Count',\n",
       " 'Number_Doses_Week',\n",
       " 'Number_Weeks_Used',\n",
       " 'Number_Weeks_Quit']"
      ]
     },
     "execution_count": 395,
     "metadata": {},
     "output_type": "execute_result"
    }
   ],
   "source": [
    "numerical_feature = [f for f in train2.columns if f not in categorical_feature]\n",
    "numerical_feature.remove('Crop_Damage')\n",
    "numerical_feature"
   ]
  },
  {
   "cell_type": "code",
   "execution_count": 396,
   "metadata": {},
   "outputs": [],
   "source": [
    "def diagnostic_plots(df, var):\n",
    "    plt.figure(figsize=(12,4))\n",
    "    plt.subplot(1,2,1)\n",
    "    sns.distplot(df[var], hist=True)\n",
    "    plt.subplot(1,2,2)\n",
    "    stats.probplot(df[var], dist='norm', plot=plt)\n",
    "    plt.show()"
   ]
  },
  {
   "cell_type": "code",
   "execution_count": 397,
   "metadata": {},
   "outputs": [
    {
     "data": {
      "image/png": "[encoded data removed]",
      "text/plain": [
       "<Figure size 864x288 with 2 Axes>"
      ]
     },
     "metadata": {
      "needs_background": "light"
     },
     "output_type": "display_data"
    },
    {
     "data": {
      "image/png": "[encoded data removed]",
      "text/plain": [
       "<Figure size 864x288 with 2 Axes>"
      ]
     },
     "metadata": {
      "needs_background": "light"
     },
     "output_type": "display_data"
    },
    {
     "data": {
      "image/png": "[encoded data removed]",
      "text/plain": [
       "<Figure size 864x288 with 2 Axes>"
      ]
     },
     "metadata": {
      "needs_background": "light"
     },
     "output_type": "display_data"
    },
    {
     "data": {
      "image/png": "[encoded data removed]",
      "text/plain": [
       "<Figure size 864x288 with 2 Axes>"
      ]
     },
     "metadata": {
      "needs_background": "light"
     },
     "output_type": "display_data"
    }
   ],
   "source": [
    "for feature in numerical_feature:\n",
    "    diagnostic_plots(train2, feature)"
   ]
  },
  {
   "cell_type": "code",
   "execution_count": 398,
   "metadata": {},
   "outputs": [
    {
     "data": {
      "image/png": "[encoded data removed]",
      "text/plain": [
       "<Figure size 432x288 with 1 Axes>"
      ]
     },
     "metadata": {
      "needs_background": "light"
     },
     "output_type": "display_data"
    },
    {
     "data": {
      "image/png": "[encoded data removed]",
      "text/plain": [
       "<Figure size 432x288 with 1 Axes>"
      ]
     },
     "metadata": {
      "needs_background": "light"
     },
     "output_type": "display_data"
    },
    {
     "data": {
      "image/png": "[encoded data removed]",
      "text/plain": [
       "<Figure size 432x288 with 1 Axes>"
      ]
     },
     "metadata": {
      "needs_background": "light"
     },
     "output_type": "display_data"
    },
    {
     "data": {
      "image/png": "[encoded data removed]",
      "text/plain": [
       "<Figure size 432x288 with 1 Axes>"
      ]
     },
     "metadata": {
      "needs_background": "light"
     },
     "output_type": "display_data"
    }
   ],
   "source": [
    "#numerical feature box plot visualization\n",
    "for feature in numerical_feature:\n",
    "    sns.boxplot(x=train2[feature])\n",
    "    plt.show()"
   ]
  },
  {
   "cell_type": "code",
   "execution_count": null,
   "metadata": {},
   "outputs": [],
   "source": []
  },
  {
   "cell_type": "code",
   "execution_count": null,
   "metadata": {},
   "outputs": [],
   "source": []
  },
  {
   "cell_type": "code",
   "execution_count": null,
   "metadata": {},
   "outputs": [],
   "source": []
  },
  {
   "cell_type": "code",
   "execution_count": null,
   "metadata": {},
   "outputs": [],
   "source": []
  },
  {
   "cell_type": "code",
   "execution_count": null,
   "metadata": {},
   "outputs": [],
   "source": []
  },
  {
   "cell_type": "code",
   "execution_count": null,
   "metadata": {},
   "outputs": [],
   "source": []
  },
  {
   "cell_type": "code",
   "execution_count": null,
   "metadata": {},
   "outputs": [],
   "source": []
  },
  {
   "cell_type": "markdown",
   "metadata": {},
   "source": [
    "## Outlier removal"
   ]
  },
  {
   "cell_type": "code",
   "execution_count": 399,
   "metadata": {},
   "outputs": [],
   "source": [
    "train3 = train2.copy()"
   ]
  },
  {
   "cell_type": "code",
   "execution_count": 400,
   "metadata": {},
   "outputs": [],
   "source": [
    "# z = (observation - mean) / std\n",
    "\n",
    "def detect_outliers(data):\n",
    "    outliers = []\n",
    "    threshold = 3\n",
    "    mean = np.mean(data)\n",
    "    std = np.std(data)\n",
    "    \n",
    "    for i in data:\n",
    "        z = (i - mean)/std\n",
    "        if np.abs(z) > threshold:\n",
    "            outliers.append(i)\n",
    "    return outliers"
   ]
  },
  {
   "cell_type": "code",
   "execution_count": 401,
   "metadata": {},
   "outputs": [
    {
     "name": "stdout",
     "output_type": "stream",
     "text": [
      "len of outlier = 356\n",
      "[4096, 4096, 4096, 4096, 4096, 4096, 4097, 4096, 4096, 4096, 4096, 4096, 4096, 4096, 4096, 4097, 4097, 4096, 4097, 4096, 4096, 4097, 4096, 4096, 4096, 4096, 4096, 4096, 4096, 4096, 4097, 4096, 4096, 4096, 4096, 4096, 4096, 4096, 4096, 4097, 4096, 4097, 4097, 4096, 4096, 4096, 4097, 4096, 4096, 4096, 4097, 4096, 4097, 4097, 4097, 4096, 4096, 4096, 4096, 4097, 4096, 4096, 4096, 4097, 4096, 4096, 4096, 4096, 4096, 4096, 4097, 4096, 4097, 4096, 4096, 4096, 4097, 4097, 4097, 4097, 4097, 4096, 4097, 4097, 4096, 4096, 4096, 4097, 4096, 4096, 4096, 4096, 4096, 4096, 4096, 4096, 4096, 4096, 4097, 4097, 4096, 4096, 4096, 4096, 4096, 4096, 4096, 4096, 4096, 4096, 4096, 4096, 4097, 4097, 4096, 4096, 4096, 4096, 4096, 4096, 4097, 4097, 4097, 4097, 4096, 4097, 4096, 4096, 4097, 4097, 4096, 4096, 4097, 4096, 4096, 4096, 4096, 4096, 4096, 4096, 4097, 4096, 4096, 4097, 4097, 4096, 4096, 4096, 4096, 4096, 4097, 4096, 4096, 4097, 4096, 4096, 4096, 4096, 4096, 4096, 4097, 4097, 4096, 4096, 4096, 4096, 4096, 4096, 4096, 4096, 4096, 4097, 4097, 4097, 4096, 4096, 4097, 4096, 4097, 4096, 4096, 4096, 4097, 4097, 4096, 4097, 4097, 4096, 4097, 4096, 4096, 4096, 4096, 4096, 4097, 4097, 4096, 4097, 4097, 4097, 4096, 4096, 4096, 4096, 4097, 4097, 4096, 4096, 4097, 4097, 4096, 4096, 4097, 4097, 4096, 4097, 4096, 4096, 4096, 4096, 4096, 4096, 4096, 4096, 4097, 4097, 4096, 4097, 4096, 4097, 4096, 4096, 4096, 4097, 4096, 4096, 4097, 4097, 4096, 4096, 4097, 4096, 4096, 4097, 4097, 4096, 4097, 4096, 4097, 4097, 4097, 4096, 4096, 4097, 4096, 4096, 4096, 4096, 4096, 4096, 4097, 4097, 4096, 4096, 4096, 4097, 4096, 4096, 4096, 4097, 4096, 4097, 4096, 4097, 4096, 4097, 4096, 4096, 4097, 4096, 4097, 4096, 4096, 4096, 4096, 4097, 4096, 4097, 4097, 4096, 4096, 4097, 4096, 4096, 4097, 4097, 4096, 4097, 4096, 4096, 4096, 4097, 4096, 4096, 4097, 4096, 4096, 4096, 4096, 4097, 4096, 4097, 4096, 4097, 4096, 4097, 4096, 4097, 4097, 4096, 4096, 4097, 4096, 4097, 4097, 4096, 4096, 4096, 4096, 4096, 4096, 4097, 4096, 4096, 4096, 4096, 4096, 4096, 4097, 4096, 4097, 4097, 4096, 4096, 4096, 4096, 4096, 4096, 4096, 4096, 4096, 4096, 4096, 4096, 4096, 4096]\n"
     ]
    }
   ],
   "source": [
    "Estimated_Insects_Count_ol = detect_outliers(train3.Estimated_Insects_Count)\n",
    "print('len of outlier =', len(Estimated_Insects_Count_ol))\n",
    "print(Estimated_Insects_Count_ol)"
   ]
  },
  {
   "cell_type": "code",
   "execution_count": 402,
   "metadata": {},
   "outputs": [
    {
     "data": {
      "text/plain": [
       "4096"
      ]
     },
     "execution_count": 402,
     "metadata": {},
     "output_type": "execute_result"
    }
   ],
   "source": [
    "np.min(Estimated_Insects_Count_ol)"
   ]
  },
  {
   "cell_type": "code",
   "execution_count": 403,
   "metadata": {},
   "outputs": [],
   "source": [
    "#remove Estimated_Insects_Count outlier\n",
    "train3 = train3[train3.Estimated_Insects_Count < 4096]"
   ]
  },
  {
   "cell_type": "code",
   "execution_count": 404,
   "metadata": {},
   "outputs": [
    {
     "name": "stdout",
     "output_type": "stream",
     "text": [
      "no. of outlier =  856\n",
      "[80, 80, 80, 90, 80, 80, 80, 90, 80, 80, 80, 80, 80, 80, 90, 80, 80, 90, 85, 80, 85, 80, 80, 80, 85, 80, 80, 80, 75, 80, 80, 95, 85, 80, 90, 80, 80, 80, 80, 80, 80, 80, 80, 80, 80, 80, 80, 90, 80, 80, 80, 80, 80, 80, 80, 80, 75, 80, 80, 80, 80, 80, 80, 80, 80, 90, 75, 75, 75, 80, 80, 80, 80, 80, 90, 80, 80, 80, 80, 80, 75, 75, 80, 80, 75, 80, 80, 80, 90, 80, 80, 75, 80, 80, 80, 80, 80, 80, 80, 75, 80, 80, 80, 80, 80, 90, 90, 80, 80, 75, 80, 75, 90, 80, 80, 80, 95, 90, 80, 80, 80, 80, 80, 80, 80, 80, 80, 80, 80, 95, 80, 80, 80, 80, 80, 80, 90, 80, 80, 75, 90, 80, 80, 80, 80, 80, 80, 80, 80, 80, 80, 80, 80, 80, 80, 80, 80, 80, 80, 75, 80, 80, 80, 80, 90, 80, 80, 80, 80, 80, 80, 80, 75, 75, 80, 90, 80, 80, 80, 80, 90, 80, 80, 90, 80, 75, 80, 80, 80, 80, 80, 90, 80, 75, 80, 80, 80, 80, 80, 80, 75, 80, 80, 80, 80, 80, 90, 80, 80, 80, 80, 80, 80, 80, 80, 95, 90, 80, 95, 80, 80, 80, 80, 80, 90, 80, 80, 80, 75, 80, 80, 80, 90, 80, 80, 95, 80, 80, 80, 80, 80, 80, 90, 80, 80, 80, 75, 80, 80, 80, 80, 80, 80, 80, 80, 80, 80, 80, 80, 80, 80, 80, 90, 80, 80, 90, 80, 80, 80, 80, 80, 80, 90, 75, 80, 80, 80, 80, 80, 80, 80, 80, 80, 75, 80, 80, 80, 80, 80, 80, 80, 80, 90, 90, 80, 80, 80, 80, 80, 80, 80, 80, 80, 80, 80, 90, 80, 80, 80, 80, 80, 80, 80, 80, 80, 80, 80, 80, 80, 95, 80, 80, 80, 80, 80, 80, 80, 80, 80, 80, 90, 80, 80, 80, 80, 80, 80, 80, 80, 85, 80, 80, 95, 90, 80, 80, 80, 90, 80, 80, 80, 80, 80, 80, 75, 80, 80, 80, 80, 80, 80, 95, 90, 80, 80, 80, 80, 80, 80, 80, 90, 80, 80, 95, 80, 80, 80, 80, 95, 80, 80, 80, 80, 80, 80, 80, 75, 80, 80, 80, 80, 80, 80, 75, 80, 80, 80, 80, 80, 90, 75, 80, 80, 80, 80, 80, 80, 90, 80, 80, 80, 80, 90, 80, 80, 80, 80, 80, 75, 80, 80, 80, 80, 80, 80, 80, 80, 80, 80, 75, 90, 80, 80, 80, 80, 80, 80, 80, 80, 80, 80, 80, 95, 90, 80, 80, 80, 90, 80, 80, 75, 80, 80, 80, 80, 80, 80, 80, 80, 80, 80, 80, 80, 90, 80, 80, 80, 80, 75, 80, 80, 80, 75, 90, 90, 80, 80, 80, 75, 80, 95, 80, 80, 80, 80, 90, 90, 80, 80, 80, 80, 80, 80, 80, 80, 80, 75, 95, 80, 80, 80, 80, 80, 80, 80, 80, 80, 80, 80, 95, 80, 80, 80, 95, 80, 80, 90, 80, 80, 80, 95, 80, 80, 90, 80, 95, 80, 80, 80, 80, 90, 80, 80, 80, 80, 80, 80, 80, 80, 80, 75, 80, 90, 80, 80, 80, 75, 80, 80, 80, 80, 80, 80, 80, 75, 80, 90, 80, 80, 80, 90, 95, 80, 80, 80, 80, 80, 80, 80, 80, 95, 80, 80, 80, 90, 80, 80, 80, 80, 80, 80, 80, 75, 80, 80, 80, 80, 80, 80, 80, 80, 80, 80, 80, 80, 75, 90, 90, 80, 80, 80, 80, 80, 80, 80, 80, 80, 80, 80, 80, 80, 90, 90, 80, 80, 90, 80, 75, 80, 90, 80, 75, 80, 90, 80, 80, 80, 80, 85, 80, 80, 80, 80, 80, 80, 75, 80, 80, 80, 80, 80, 80, 95, 80, 90, 80, 80, 80, 80, 80, 80, 80, 90, 80, 75, 80, 80, 75, 90, 80, 80, 80, 80, 95, 80, 80, 90, 90, 90, 80, 75, 80, 80, 80, 80, 80, 75, 95, 80, 80, 80, 90, 90, 75, 90, 80, 80, 80, 80, 80, 95, 80, 75, 80, 80, 90, 95, 80, 80, 80, 80, 80, 90, 95, 80, 80, 80, 80, 80, 90, 80, 80, 90, 80, 90, 80, 80, 80, 75, 80, 90, 80, 80, 80, 80, 80, 80, 75, 80, 90, 80, 80, 80, 75, 80, 80, 75, 75, 95, 80, 80, 80, 80, 80, 80, 80, 80, 80, 80, 80, 80, 80, 90, 80, 80, 80, 80, 80, 80, 95, 80, 80, 80, 80, 75, 80, 80, 75, 80, 80, 75, 80, 80, 80, 80, 80, 80, 80, 80, 90, 80, 80, 90, 80, 80, 80, 80, 80, 75, 90, 80, 95, 80, 85, 85, 80, 80, 80, 80, 95, 80, 80, 80, 80, 80, 80, 90, 80, 85, 80, 80, 80, 80, 80, 80, 80, 90, 80, 80, 80, 80, 85, 80, 80, 80, 80, 80, 80, 80, 80, 85, 80, 75, 80, 75, 80, 80, 80, 80, 80, 75, 80, 80, 80, 80, 80, 75, 80, 80, 80, 80, 80, 80, 80, 80, 80]\n"
     ]
    }
   ],
   "source": [
    "#finding outlier in Number_Doses_Week\n",
    "Number_Doses_Week_ol = detect_outliers(train3.Number_Doses_Week)\n",
    "print('no. of outlier = ', len(Number_Doses_Week_ol))\n",
    "print(Number_Doses_Week_ol)"
   ]
  },
  {
   "cell_type": "code",
   "execution_count": 405,
   "metadata": {},
   "outputs": [
    {
     "data": {
      "text/plain": [
       "75"
      ]
     },
     "execution_count": 405,
     "metadata": {},
     "output_type": "execute_result"
    }
   ],
   "source": [
    "np.min(Number_Doses_Week_ol)"
   ]
  },
  {
   "cell_type": "code",
   "execution_count": 406,
   "metadata": {},
   "outputs": [],
   "source": [
    "train3 = train3[train3.Number_Doses_Week < 75]"
   ]
  },
  {
   "cell_type": "code",
   "execution_count": 407,
   "metadata": {},
   "outputs": [
    {
     "name": "stdout",
     "output_type": "stream",
     "text": [
      "no. of outlier =  89\n",
      "[66.0, 64.0, 65.0, 65.0, 65.0, 66.0, 66.0, 65.0, 67.0, 65.0, 67.0, 64.0, 67.0, 66.0, 66.0, 64.0, 64.0, 65.0, 66.0, 64.0, 67.0, 64.0, 65.0, 65.0, 67.0, 65.0, 65.0, 65.0, 64.0, 65.0, 64.0, 64.0, 66.0, 64.0, 65.0, 64.0, 66.0, 65.0, 64.0, 64.0, 66.0, 65.0, 64.0, 65.0, 65.0, 65.0, 64.0, 64.0, 65.0, 64.0, 66.0, 64.0, 66.0, 66.0, 64.0, 65.0, 67.0, 65.0, 64.0, 64.0, 64.0, 64.0, 64.0, 65.0, 66.0, 65.0, 65.0, 64.0, 64.0, 64.0, 65.0, 65.0, 64.0, 64.0, 65.0, 64.0, 66.0, 64.0, 64.0, 66.0, 67.0, 64.0, 64.0, 64.0, 64.0, 67.0, 64.0, 64.0, 64.0]\n"
     ]
    }
   ],
   "source": [
    "#finding outlier in Number_Weeks_Used\n",
    "Number_Weeks_Used_ol = detect_outliers(train3.Number_Weeks_Used)\n",
    "print('no. of outlier = ', len(Number_Weeks_Used_ol))\n",
    "print(Number_Weeks_Used_ol)"
   ]
  },
  {
   "cell_type": "code",
   "execution_count": 408,
   "metadata": {},
   "outputs": [
    {
     "data": {
      "text/plain": [
       "64.0"
      ]
     },
     "execution_count": 408,
     "metadata": {},
     "output_type": "execute_result"
    }
   ],
   "source": [
    "np.min(Number_Weeks_Used_ol)"
   ]
  },
  {
   "cell_type": "code",
   "execution_count": 409,
   "metadata": {},
   "outputs": [],
   "source": [
    "# remove Number_Weeks_Used outlier\n",
    "train3 = train3[train3.Number_Weeks_Used < 64]"
   ]
  },
  {
   "cell_type": "code",
   "execution_count": 410,
   "metadata": {},
   "outputs": [
    {
     "name": "stdout",
     "output_type": "stream",
     "text": [
      "no. of outlier =  430\n",
      "[44, 41, 47, 46, 47, 40, 42, 42, 41, 44, 40, 41, 41, 41, 41, 40, 41, 41, 42, 41, 40, 43, 40, 42, 45, 41, 42, 41, 46, 41, 41, 40, 43, 42, 42, 40, 40, 46, 46, 46, 40, 44, 41, 41, 40, 44, 49, 41, 40, 40, 42, 42, 42, 43, 43, 41, 41, 40, 40, 46, 40, 40, 41, 45, 42, 41, 40, 43, 42, 44, 44, 40, 42, 46, 40, 43, 40, 40, 43, 44, 45, 43, 43, 40, 40, 46, 40, 40, 41, 42, 43, 41, 45, 42, 48, 40, 40, 41, 41, 40, 41, 44, 40, 44, 41, 44, 44, 46, 42, 40, 43, 43, 42, 47, 44, 40, 42, 43, 44, 41, 46, 42, 40, 40, 41, 41, 41, 47, 41, 47, 41, 40, 49, 43, 42, 42, 42, 48, 42, 40, 44, 44, 44, 41, 40, 41, 43, 40, 41, 43, 46, 41, 41, 40, 41, 40, 41, 41, 43, 44, 42, 40, 40, 43, 41, 48, 42, 40, 40, 42, 42, 43, 41, 40, 43, 40, 47, 40, 42, 42, 45, 46, 42, 40, 43, 40, 42, 42, 44, 43, 40, 46, 42, 42, 40, 41, 42, 40, 44, 47, 40, 42, 42, 40, 41, 41, 45, 40, 45, 48, 40, 41, 41, 43, 43, 44, 43, 40, 41, 41, 42, 40, 45, 40, 42, 44, 44, 40, 46, 41, 40, 40, 40, 44, 47, 40, 44, 40, 42, 40, 41, 44, 44, 43, 40, 40, 40, 40, 42, 44, 43, 46, 41, 41, 41, 42, 40, 41, 41, 43, 40, 40, 41, 42, 45, 40, 41, 41, 42, 45, 42, 47, 42, 41, 48, 44, 41, 47, 40, 42, 41, 41, 43, 43, 49, 42, 40, 41, 40, 47, 43, 42, 41, 42, 45, 42, 40, 43, 42, 47, 47, 43, 40, 40, 44, 40, 41, 41, 47, 45, 41, 41, 45, 47, 42, 43, 49, 45, 41, 40, 41, 40, 40, 41, 45, 40, 42, 40, 42, 43, 42, 43, 47, 42, 40, 40, 40, 42, 45, 46, 41, 44, 45, 47, 42, 42, 42, 41, 41, 42, 40, 42, 45, 43, 48, 44, 40, 41, 40, 42, 46, 45, 40, 48, 40, 40, 40, 41, 41, 42, 43, 43, 43, 41, 40, 40, 40, 40, 47, 47, 40, 40, 41, 40, 43, 40, 40, 41, 40, 44, 41, 42, 44, 44, 48, 42, 42, 47, 40, 42, 41, 40, 40, 46, 45, 46, 43, 40, 40, 40, 43, 42, 48, 43, 46, 40, 40, 45, 40, 40, 41, 43, 44, 40, 40, 40, 40, 45, 42, 44]\n"
     ]
    }
   ],
   "source": [
    "#finding outlier in Number_Weeks_Quit\n",
    "Number_Weeks_Quit_ol = detect_outliers(train3.Number_Weeks_Quit)\n",
    "print('no. of outlier = ',len(Number_Weeks_Quit_ol))\n",
    "print(Number_Weeks_Quit_ol)"
   ]
  },
  {
   "cell_type": "code",
   "execution_count": 411,
   "metadata": {},
   "outputs": [
    {
     "data": {
      "text/plain": [
       "40"
      ]
     },
     "execution_count": 411,
     "metadata": {},
     "output_type": "execute_result"
    }
   ],
   "source": [
    "np.min(Number_Weeks_Quit_ol)"
   ]
  },
  {
   "cell_type": "code",
   "execution_count": 412,
   "metadata": {},
   "outputs": [],
   "source": [
    "train3 = train3[train3.Number_Weeks_Quit < 40]"
   ]
  },
  {
   "cell_type": "code",
   "execution_count": null,
   "metadata": {},
   "outputs": [],
   "source": []
  },
  {
   "cell_type": "code",
   "execution_count": 413,
   "metadata": {},
   "outputs": [
    {
     "data": {
      "text/plain": [
       "(87127, 9)"
      ]
     },
     "execution_count": 413,
     "metadata": {},
     "output_type": "execute_result"
    }
   ],
   "source": [
    "train3.shape"
   ]
  },
  {
   "cell_type": "code",
   "execution_count": null,
   "metadata": {},
   "outputs": [],
   "source": []
  },
  {
   "cell_type": "markdown",
   "metadata": {},
   "source": [
    "## feature selection"
   ]
  },
  {
   "cell_type": "code",
   "execution_count": 433,
   "metadata": {},
   "outputs": [],
   "source": [
    "train4 = train3.copy()"
   ]
  },
  {
   "cell_type": "markdown",
   "metadata": {},
   "source": [
    "#### checking strength of feature using one_way_anova"
   ]
  },
  {
   "cell_type": "code",
   "execution_count": 434,
   "metadata": {},
   "outputs": [],
   "source": [
    "data = train4.astype({'Crop_Damage':'object'})"
   ]
  },
  {
   "cell_type": "code",
   "execution_count": 435,
   "metadata": {},
   "outputs": [
    {
     "name": "stdout",
     "output_type": "stream",
     "text": [
      "Estimated_Insects_Count  :--\n",
      "f =  3920.10040082883\n",
      "p =  0.0\n",
      "Crop_Type  :--\n",
      "f =  67.04631694550244\n",
      "p =  2.688419777288819e-16\n",
      "Soil_Type  :--\n",
      "f =  33.43476662294082\n",
      "p =  7.395218946116713e-09\n",
      "Pesticide_Use_Category  :--\n",
      "f =  1869.8190686900728\n",
      "p =  0.0\n",
      "Number_Doses_Week  :--\n",
      "f =  141.4474975208617\n",
      "p =  1.3634016712464595e-32\n",
      "Number_Weeks_Used  :--\n",
      "f =  3303.5202627910107\n",
      "p =  0.0\n",
      "Number_Weeks_Quit  :--\n",
      "f =  820.9469512493314\n",
      "p =  1.088515488494167e-179\n",
      "Season  :--\n",
      "f =  0.3701695782325499\n",
      "p =  0.5429134765629368\n",
      "Crop_Damage  :--\n",
      "f =  -2.3946547302078716e+20\n",
      "p =  nan\n"
     ]
    }
   ],
   "source": [
    "for feature in data.columns:\n",
    "    crop_damage = data.Crop_Damage.unique()\n",
    "    dat = {grp:data[feature][data.Crop_Damage == grp] for grp in crop_damage}\n",
    "    print(feature,' :--')\n",
    "    f, p = stats.f_oneway(dat[1], dat[0])\n",
    "    print('f = ',f)\n",
    "    print('p = ', p)"
   ]
  },
  {
   "cell_type": "code",
   "execution_count": null,
   "metadata": {},
   "outputs": [],
   "source": []
  },
  {
   "cell_type": "code",
   "execution_count": 436,
   "metadata": {},
   "outputs": [],
   "source": [
    "train4 = train4.drop('Soil_Type', axis=1)"
   ]
  },
  {
   "cell_type": "code",
   "execution_count": 457,
   "metadata": {},
   "outputs": [],
   "source": [
    "test2 = test2.drop('Soil_Type', axis=1)"
   ]
  },
  {
   "cell_type": "code",
   "execution_count": null,
   "metadata": {},
   "outputs": [],
   "source": []
  },
  {
   "cell_type": "code",
   "execution_count": null,
   "metadata": {},
   "outputs": [],
   "source": []
  },
  {
   "cell_type": "markdown",
   "metadata": {},
   "source": [
    "## feature engineering"
   ]
  },
  {
   "cell_type": "code",
   "execution_count": 458,
   "metadata": {},
   "outputs": [],
   "source": [
    "train5 = train4.copy()\n",
    "test3 = test2.copy()"
   ]
  },
  {
   "cell_type": "code",
   "execution_count": 459,
   "metadata": {},
   "outputs": [],
   "source": [
    "train5 = pd.get_dummies(train5, columns=['Pesticide_Use_Category',\n",
    "                                         'Season','Crop_Type'])\n",
    "test3 = pd.get_dummies(test3, columns=['Pesticide_Use_Category',\n",
    "                                         'Season','Crop_Type'])"
   ]
  },
  {
   "cell_type": "code",
   "execution_count": 460,
   "metadata": {},
   "outputs": [
    {
     "data": {
      "text/html": [
       "<div>\n",
       "<style scoped>\n",
       "    .dataframe tbody tr th:only-of-type {\n",
       "        vertical-align: middle;\n",
       "    }\n",
       "\n",
       "    .dataframe tbody tr th {\n",
       "        vertical-align: top;\n",
       "    }\n",
       "\n",
       "    .dataframe thead th {\n",
       "        text-align: right;\n",
       "    }\n",
       "</style>\n",
       "<table border=\"1\" class=\"dataframe\">\n",
       "  <thead>\n",
       "    <tr style=\"text-align: right;\">\n",
       "      <th></th>\n",
       "      <th>Estimated_Insects_Count</th>\n",
       "      <th>Number_Doses_Week</th>\n",
       "      <th>Number_Weeks_Used</th>\n",
       "      <th>Number_Weeks_Quit</th>\n",
       "      <th>Crop_Damage</th>\n",
       "      <th>Pesticide_Use_Category_1</th>\n",
       "      <th>Pesticide_Use_Category_2</th>\n",
       "      <th>Pesticide_Use_Category_3</th>\n",
       "      <th>Season_1</th>\n",
       "      <th>Season_2</th>\n",
       "      <th>Season_3</th>\n",
       "      <th>Crop_Type_0</th>\n",
       "      <th>Crop_Type_1</th>\n",
       "    </tr>\n",
       "  </thead>\n",
       "  <tbody>\n",
       "    <tr>\n",
       "      <th>0</th>\n",
       "      <td>188</td>\n",
       "      <td>0</td>\n",
       "      <td>0.0</td>\n",
       "      <td>0</td>\n",
       "      <td>0</td>\n",
       "      <td>1</td>\n",
       "      <td>0</td>\n",
       "      <td>0</td>\n",
       "      <td>1</td>\n",
       "      <td>0</td>\n",
       "      <td>0</td>\n",
       "      <td>0</td>\n",
       "      <td>1</td>\n",
       "    </tr>\n",
       "    <tr>\n",
       "      <th>1</th>\n",
       "      <td>209</td>\n",
       "      <td>0</td>\n",
       "      <td>0.0</td>\n",
       "      <td>0</td>\n",
       "      <td>1</td>\n",
       "      <td>1</td>\n",
       "      <td>0</td>\n",
       "      <td>0</td>\n",
       "      <td>0</td>\n",
       "      <td>1</td>\n",
       "      <td>0</td>\n",
       "      <td>0</td>\n",
       "      <td>1</td>\n",
       "    </tr>\n",
       "    <tr>\n",
       "      <th>2</th>\n",
       "      <td>257</td>\n",
       "      <td>0</td>\n",
       "      <td>0.0</td>\n",
       "      <td>0</td>\n",
       "      <td>1</td>\n",
       "      <td>1</td>\n",
       "      <td>0</td>\n",
       "      <td>0</td>\n",
       "      <td>0</td>\n",
       "      <td>1</td>\n",
       "      <td>0</td>\n",
       "      <td>0</td>\n",
       "      <td>1</td>\n",
       "    </tr>\n",
       "    <tr>\n",
       "      <th>3</th>\n",
       "      <td>257</td>\n",
       "      <td>0</td>\n",
       "      <td>0.0</td>\n",
       "      <td>0</td>\n",
       "      <td>1</td>\n",
       "      <td>1</td>\n",
       "      <td>0</td>\n",
       "      <td>0</td>\n",
       "      <td>0</td>\n",
       "      <td>1</td>\n",
       "      <td>0</td>\n",
       "      <td>0</td>\n",
       "      <td>1</td>\n",
       "    </tr>\n",
       "    <tr>\n",
       "      <th>4</th>\n",
       "      <td>342</td>\n",
       "      <td>0</td>\n",
       "      <td>0.0</td>\n",
       "      <td>0</td>\n",
       "      <td>1</td>\n",
       "      <td>1</td>\n",
       "      <td>0</td>\n",
       "      <td>0</td>\n",
       "      <td>0</td>\n",
       "      <td>1</td>\n",
       "      <td>0</td>\n",
       "      <td>0</td>\n",
       "      <td>1</td>\n",
       "    </tr>\n",
       "  </tbody>\n",
       "</table>\n",
       "</div>"
      ],
      "text/plain": [
       "   Estimated_Insects_Count  Number_Doses_Week  Number_Weeks_Used  \\\n",
       "0                      188                  0                0.0   \n",
       "1                      209                  0                0.0   \n",
       "2                      257                  0                0.0   \n",
       "3                      257                  0                0.0   \n",
       "4                      342                  0                0.0   \n",
       "\n",
       "   Number_Weeks_Quit  Crop_Damage  Pesticide_Use_Category_1  \\\n",
       "0                  0            0                         1   \n",
       "1                  0            1                         1   \n",
       "2                  0            1                         1   \n",
       "3                  0            1                         1   \n",
       "4                  0            1                         1   \n",
       "\n",
       "   Pesticide_Use_Category_2  Pesticide_Use_Category_3  Season_1  Season_2  \\\n",
       "0                         0                         0         1         0   \n",
       "1                         0                         0         0         1   \n",
       "2                         0                         0         0         1   \n",
       "3                         0                         0         0         1   \n",
       "4                         0                         0         0         1   \n",
       "\n",
       "   Season_3  Crop_Type_0  Crop_Type_1  \n",
       "0         0            0            1  \n",
       "1         0            0            1  \n",
       "2         0            0            1  \n",
       "3         0            0            1  \n",
       "4         0            0            1  "
      ]
     },
     "execution_count": 460,
     "metadata": {},
     "output_type": "execute_result"
    }
   ],
   "source": [
    "train5.head()"
   ]
  },
  {
   "cell_type": "code",
   "execution_count": 461,
   "metadata": {},
   "outputs": [
    {
     "name": "stdout",
     "output_type": "stream",
     "text": [
      "train5 shape =  (87127, 13)\n",
      "test3 shape =  (59310, 12)\n"
     ]
    }
   ],
   "source": [
    "print('train5 shape = ',train5.shape)\n",
    "print('test3 shape = ', test3.shape)"
   ]
  },
  {
   "cell_type": "code",
   "execution_count": 462,
   "metadata": {},
   "outputs": [
    {
     "data": {
      "text/plain": [
       "MinMaxScaler(copy=True, feature_range=(0, 1))"
      ]
     },
     "execution_count": 462,
     "metadata": {},
     "output_type": "execute_result"
    }
   ],
   "source": [
    "#feature scale\n",
    "feature_scale = [feature for feature in train5.columns if feature != 'Crop_Damage']\n",
    "scaler = MinMaxScaler()\n",
    "scaler.fit(train5[feature_scale])"
   ]
  },
  {
   "cell_type": "code",
   "execution_count": 463,
   "metadata": {},
   "outputs": [],
   "source": [
    "scale = scaler.transform(train5[feature_scale])"
   ]
  },
  {
   "cell_type": "code",
   "execution_count": 464,
   "metadata": {},
   "outputs": [],
   "source": [
    "# transform the train and test set, and add on the Crop_Damage variables\n",
    "train5 = pd.concat([train5['Crop_Damage'].reset_index(drop = True),\n",
    "                  pd.DataFrame(scale, columns=feature_scale)],axis=1)"
   ]
  },
  {
   "cell_type": "code",
   "execution_count": 465,
   "metadata": {},
   "outputs": [
    {
     "data": {
      "text/html": [
       "<div>\n",
       "<style scoped>\n",
       "    .dataframe tbody tr th:only-of-type {\n",
       "        vertical-align: middle;\n",
       "    }\n",
       "\n",
       "    .dataframe tbody tr th {\n",
       "        vertical-align: top;\n",
       "    }\n",
       "\n",
       "    .dataframe thead th {\n",
       "        text-align: right;\n",
       "    }\n",
       "</style>\n",
       "<table border=\"1\" class=\"dataframe\">\n",
       "  <thead>\n",
       "    <tr style=\"text-align: right;\">\n",
       "      <th></th>\n",
       "      <th>Crop_Damage</th>\n",
       "      <th>Estimated_Insects_Count</th>\n",
       "      <th>Number_Doses_Week</th>\n",
       "      <th>Number_Weeks_Used</th>\n",
       "      <th>Number_Weeks_Quit</th>\n",
       "      <th>Pesticide_Use_Category_1</th>\n",
       "      <th>Pesticide_Use_Category_2</th>\n",
       "      <th>Pesticide_Use_Category_3</th>\n",
       "      <th>Season_1</th>\n",
       "      <th>Season_2</th>\n",
       "      <th>Season_3</th>\n",
       "      <th>Crop_Type_0</th>\n",
       "      <th>Crop_Type_1</th>\n",
       "    </tr>\n",
       "  </thead>\n",
       "  <tbody>\n",
       "    <tr>\n",
       "      <th>0</th>\n",
       "      <td>0</td>\n",
       "      <td>0.010144</td>\n",
       "      <td>0.0</td>\n",
       "      <td>0.0</td>\n",
       "      <td>0.0</td>\n",
       "      <td>1.0</td>\n",
       "      <td>0.0</td>\n",
       "      <td>0.0</td>\n",
       "      <td>1.0</td>\n",
       "      <td>0.0</td>\n",
       "      <td>0.0</td>\n",
       "      <td>0.0</td>\n",
       "      <td>1.0</td>\n",
       "    </tr>\n",
       "    <tr>\n",
       "      <th>1</th>\n",
       "      <td>1</td>\n",
       "      <td>0.015750</td>\n",
       "      <td>0.0</td>\n",
       "      <td>0.0</td>\n",
       "      <td>0.0</td>\n",
       "      <td>1.0</td>\n",
       "      <td>0.0</td>\n",
       "      <td>0.0</td>\n",
       "      <td>0.0</td>\n",
       "      <td>1.0</td>\n",
       "      <td>0.0</td>\n",
       "      <td>0.0</td>\n",
       "      <td>1.0</td>\n",
       "    </tr>\n",
       "    <tr>\n",
       "      <th>2</th>\n",
       "      <td>1</td>\n",
       "      <td>0.028564</td>\n",
       "      <td>0.0</td>\n",
       "      <td>0.0</td>\n",
       "      <td>0.0</td>\n",
       "      <td>1.0</td>\n",
       "      <td>0.0</td>\n",
       "      <td>0.0</td>\n",
       "      <td>0.0</td>\n",
       "      <td>1.0</td>\n",
       "      <td>0.0</td>\n",
       "      <td>0.0</td>\n",
       "      <td>1.0</td>\n",
       "    </tr>\n",
       "    <tr>\n",
       "      <th>3</th>\n",
       "      <td>1</td>\n",
       "      <td>0.028564</td>\n",
       "      <td>0.0</td>\n",
       "      <td>0.0</td>\n",
       "      <td>0.0</td>\n",
       "      <td>1.0</td>\n",
       "      <td>0.0</td>\n",
       "      <td>0.0</td>\n",
       "      <td>0.0</td>\n",
       "      <td>1.0</td>\n",
       "      <td>0.0</td>\n",
       "      <td>0.0</td>\n",
       "      <td>1.0</td>\n",
       "    </tr>\n",
       "    <tr>\n",
       "      <th>4</th>\n",
       "      <td>1</td>\n",
       "      <td>0.051255</td>\n",
       "      <td>0.0</td>\n",
       "      <td>0.0</td>\n",
       "      <td>0.0</td>\n",
       "      <td>1.0</td>\n",
       "      <td>0.0</td>\n",
       "      <td>0.0</td>\n",
       "      <td>0.0</td>\n",
       "      <td>1.0</td>\n",
       "      <td>0.0</td>\n",
       "      <td>0.0</td>\n",
       "      <td>1.0</td>\n",
       "    </tr>\n",
       "  </tbody>\n",
       "</table>\n",
       "</div>"
      ],
      "text/plain": [
       "   Crop_Damage  Estimated_Insects_Count  Number_Doses_Week  Number_Weeks_Used  \\\n",
       "0            0                 0.010144                0.0                0.0   \n",
       "1            1                 0.015750                0.0                0.0   \n",
       "2            1                 0.028564                0.0                0.0   \n",
       "3            1                 0.028564                0.0                0.0   \n",
       "4            1                 0.051255                0.0                0.0   \n",
       "\n",
       "   Number_Weeks_Quit  Pesticide_Use_Category_1  Pesticide_Use_Category_2  \\\n",
       "0                0.0                       1.0                       0.0   \n",
       "1                0.0                       1.0                       0.0   \n",
       "2                0.0                       1.0                       0.0   \n",
       "3                0.0                       1.0                       0.0   \n",
       "4                0.0                       1.0                       0.0   \n",
       "\n",
       "   Pesticide_Use_Category_3  Season_1  Season_2  Season_3  Crop_Type_0  \\\n",
       "0                       0.0       1.0       0.0       0.0          0.0   \n",
       "1                       0.0       0.0       1.0       0.0          0.0   \n",
       "2                       0.0       0.0       1.0       0.0          0.0   \n",
       "3                       0.0       0.0       1.0       0.0          0.0   \n",
       "4                       0.0       0.0       1.0       0.0          0.0   \n",
       "\n",
       "   Crop_Type_1  \n",
       "0          1.0  \n",
       "1          1.0  \n",
       "2          1.0  \n",
       "3          1.0  \n",
       "4          1.0  "
      ]
     },
     "execution_count": 465,
     "metadata": {},
     "output_type": "execute_result"
    }
   ],
   "source": [
    "train5.head()"
   ]
  },
  {
   "cell_type": "code",
   "execution_count": 466,
   "metadata": {},
   "outputs": [
    {
     "data": {
      "text/plain": [
       "[]"
      ]
     },
     "execution_count": 466,
     "metadata": {},
     "output_type": "execute_result"
    }
   ],
   "source": [
    "[c for c in test3.columns if c not in train5.columns]"
   ]
  },
  {
   "cell_type": "code",
   "execution_count": null,
   "metadata": {},
   "outputs": [],
   "source": []
  },
  {
   "cell_type": "code",
   "execution_count": null,
   "metadata": {},
   "outputs": [],
   "source": []
  },
  {
   "cell_type": "code",
   "execution_count": 467,
   "metadata": {},
   "outputs": [],
   "source": [
    "x = train5.drop('Crop_Damage', axis=1)\n",
    "y = train5.Crop_Damage\n",
    "x_train, x_test, y_train, y_test = train_test_split(x, y, test_size = 0.3)"
   ]
  },
  {
   "cell_type": "code",
   "execution_count": null,
   "metadata": {},
   "outputs": [],
   "source": []
  },
  {
   "cell_type": "code",
   "execution_count": null,
   "metadata": {},
   "outputs": [],
   "source": []
  },
  {
   "cell_type": "markdown",
   "metadata": {},
   "source": [
    "## model building and hyperparameter tuning"
   ]
  },
  {
   "cell_type": "markdown",
   "metadata": {},
   "source": [
    "#### Logistic Regression"
   ]
  },
  {
   "cell_type": "code",
   "execution_count": 468,
   "metadata": {},
   "outputs": [
    {
     "name": "stderr",
     "output_type": "stream",
     "text": [
      "c:\\users\\j7000\\appdata\\local\\programs\\python\\python36\\lib\\site-packages\\sklearn\\linear_model\\_logistic.py:940: ConvergenceWarning: lbfgs failed to converge (status=1):\n",
      "STOP: TOTAL NO. of ITERATIONS REACHED LIMIT.\n",
      "\n",
      "Increase the number of iterations (max_iter) or scale the data as shown in:\n",
      "    https://scikit-learn.org/stable/modules/preprocessing.html\n",
      "Please also refer to the documentation for alternative solver options:\n",
      "    https://scikit-learn.org/stable/modules/linear_model.html#logistic-regression\n",
      "  extra_warning_msg=_LOGISTIC_SOLVER_CONVERGENCE_MSG)\n"
     ]
    },
    {
     "data": {
      "text/plain": [
       "0.8398944106507518"
      ]
     },
     "execution_count": 468,
     "metadata": {},
     "output_type": "execute_result"
    }
   ],
   "source": [
    "logr_model = LogisticRegression()\n",
    "logr_model.fit(x_train, y_train)\n",
    "logr_model.score(x_test, y_test)"
   ]
  },
  {
   "cell_type": "code",
   "execution_count": 469,
   "metadata": {},
   "outputs": [
    {
     "data": {
      "text/plain": [
       "Text(42.0, 0.5, 'Truth')"
      ]
     },
     "execution_count": 469,
     "metadata": {},
     "output_type": "execute_result"
    },
    {
     "data": {
      "image/png": "[encoded data removed]",
      "text/plain": [
       "<Figure size 504x288 with 2 Axes>"
      ]
     },
     "metadata": {
      "needs_background": "light"
     },
     "output_type": "display_data"
    }
   ],
   "source": [
    "cm = confusion_matrix(y_test, logr_model.predict(x_test))\n",
    "plt.figure(figsize=(7,4))\n",
    "sns.heatmap(cm, annot=True)\n",
    "plt.xlabel('predicted')\n",
    "plt.ylabel('Truth')"
   ]
  },
  {
   "cell_type": "code",
   "execution_count": 470,
   "metadata": {},
   "outputs": [
    {
     "name": "stdout",
     "output_type": "stream",
     "text": [
      "[[21546   371     0]\n",
      " [ 3148   408     0]\n",
      " [  538   128     0]]\n"
     ]
    }
   ],
   "source": [
    "print(cm)"
   ]
  },
  {
   "cell_type": "code",
   "execution_count": null,
   "metadata": {},
   "outputs": [],
   "source": []
  },
  {
   "cell_type": "code",
   "execution_count": null,
   "metadata": {},
   "outputs": [],
   "source": []
  },
  {
   "cell_type": "markdown",
   "metadata": {},
   "source": [
    "#### Random Forest Classifier"
   ]
  },
  {
   "cell_type": "code",
   "execution_count": 471,
   "metadata": {},
   "outputs": [
    {
     "name": "stderr",
     "output_type": "stream",
     "text": [
      "[Parallel(n_jobs=-1)]: Using backend ThreadingBackend with 4 concurrent workers.\n",
      "[Parallel(n_jobs=-1)]: Done  42 tasks      | elapsed:    1.6s\n",
      "[Parallel(n_jobs=-1)]: Done 192 tasks      | elapsed:    7.7s\n",
      "[Parallel(n_jobs=-1)]: Done 442 tasks      | elapsed:   17.4s\n",
      "[Parallel(n_jobs=-1)]: Done 792 tasks      | elapsed:   32.1s\n",
      "[Parallel(n_jobs=-1)]: Done 1100 out of 1100 | elapsed:   44.4s finished\n",
      "[Parallel(n_jobs=4)]: Using backend ThreadingBackend with 4 concurrent workers.\n",
      "[Parallel(n_jobs=4)]: Done  42 tasks      | elapsed:    0.0s\n",
      "[Parallel(n_jobs=4)]: Done 192 tasks      | elapsed:    0.4s\n",
      "[Parallel(n_jobs=4)]: Done 442 tasks      | elapsed:    1.1s\n",
      "[Parallel(n_jobs=4)]: Done 792 tasks      | elapsed:    2.0s\n",
      "[Parallel(n_jobs=4)]: Done 1100 out of 1100 | elapsed:    2.8s finished\n"
     ]
    },
    {
     "data": {
      "text/plain": [
       "0.8429167144879299"
      ]
     },
     "execution_count": 471,
     "metadata": {},
     "output_type": "execute_result"
    }
   ],
   "source": [
    "rfc_model = RandomForestClassifier(\n",
    "criterion='gini',\n",
    "n_estimators=1100,\n",
    "max_depth=5,\n",
    "min_samples_split=4,\n",
    "min_samples_leaf=5,\n",
    "max_features='auto',\n",
    "oob_score=True,\n",
    "\n",
    "n_jobs=-1,\n",
    "verbose=1\n",
    ")\n",
    "\n",
    "rfc_model.fit(x_train, y_train)\n",
    "rfc_model.score(x_test,y_test)"
   ]
  },
  {
   "cell_type": "code",
   "execution_count": 472,
   "metadata": {},
   "outputs": [
    {
     "name": "stderr",
     "output_type": "stream",
     "text": [
      "[Parallel(n_jobs=4)]: Using backend ThreadingBackend with 4 concurrent workers.\n",
      "[Parallel(n_jobs=4)]: Done  42 tasks      | elapsed:    0.0s\n",
      "[Parallel(n_jobs=4)]: Done 192 tasks      | elapsed:    0.4s\n",
      "[Parallel(n_jobs=4)]: Done 442 tasks      | elapsed:    1.1s\n",
      "[Parallel(n_jobs=4)]: Done 792 tasks      | elapsed:    1.9s\n"
     ]
    },
    {
     "name": "stdout",
     "output_type": "stream",
     "text": [
      "[[21880    37     0]\n",
      " [ 3403   153     0]\n",
      " [  607    59     0]]\n"
     ]
    },
    {
     "name": "stderr",
     "output_type": "stream",
     "text": [
      "[Parallel(n_jobs=4)]: Done 1100 out of 1100 | elapsed:    2.7s finished\n"
     ]
    }
   ],
   "source": [
    "cm = confusion_matrix(y_test, rfc_model.predict(x_test))\n",
    "print(cm)"
   ]
  },
  {
   "cell_type": "code",
   "execution_count": null,
   "metadata": {},
   "outputs": [],
   "source": []
  },
  {
   "cell_type": "code",
   "execution_count": null,
   "metadata": {},
   "outputs": [],
   "source": [
    "print(T)"
   ]
  },
  {
   "cell_type": "markdown",
   "metadata": {},
   "source": [
    "#### ExtraTreesClassifier"
   ]
  },
  {
   "cell_type": "code",
   "execution_count": null,
   "metadata": {},
   "outputs": [],
   "source": [
    "etc_model = ExtraTreesClassifier()\n",
    "etc_model.fit(x_train, y_train)\n",
    "etc_model.score(x_test,y_test)"
   ]
  },
  {
   "cell_type": "code",
   "execution_count": null,
   "metadata": {},
   "outputs": [],
   "source": [
    "cm = confusion_matrix(y_test, etc_model.predict(x_test))\n",
    "print(cm)"
   ]
  },
  {
   "cell_type": "code",
   "execution_count": null,
   "metadata": {},
   "outputs": [],
   "source": []
  },
  {
   "cell_type": "code",
   "execution_count": null,
   "metadata": {},
   "outputs": [],
   "source": []
  },
  {
   "cell_type": "markdown",
   "metadata": {},
   "source": [
    "#### SVM"
   ]
  },
  {
   "cell_type": "code",
   "execution_count": null,
   "metadata": {},
   "outputs": [],
   "source": [
    "#SVC\n",
    "svc_model = SVC()\n",
    "svc_model.fit(x_train, y_train)\n",
    "svc_model.score(x_test, y_test)"
   ]
  },
  {
   "cell_type": "code",
   "execution_count": null,
   "metadata": {},
   "outputs": [],
   "source": [
    "cm = confusion_matrix(y_test, svc_model.predict(x_test))\n",
    "print(cm)"
   ]
  },
  {
   "cell_type": "code",
   "execution_count": null,
   "metadata": {},
   "outputs": [],
   "source": [
    "#LinearSVC \n",
    "lsvc_model = LinearSVC()\n",
    "lsvc_model.fit(x_train, y_train)\n",
    "lsvc_model.score(x_test, y_test)"
   ]
  },
  {
   "cell_type": "code",
   "execution_count": null,
   "metadata": {},
   "outputs": [],
   "source": [
    "cm = confusion_matrix(y_test, lsvc_model.predict(x_test))"
   ]
  },
  {
   "cell_type": "code",
   "execution_count": null,
   "metadata": {},
   "outputs": [],
   "source": [
    "print(cm)"
   ]
  },
  {
   "cell_type": "code",
   "execution_count": null,
   "metadata": {},
   "outputs": [],
   "source": []
  },
  {
   "cell_type": "markdown",
   "metadata": {},
   "source": [
    "#### KNeighborsClassifier"
   ]
  },
  {
   "cell_type": "code",
   "execution_count": null,
   "metadata": {},
   "outputs": [],
   "source": [
    "knnc_model = KNeighborsClassifier()\n",
    "knnc_model.fit(x_train, y_train)\n",
    "knnc_model.score(x_test, y_test)"
   ]
  },
  {
   "cell_type": "code",
   "execution_count": null,
   "metadata": {},
   "outputs": [],
   "source": [
    "cm = confusion_matrix(y_test, knnc_model.predict(x_test))\n",
    "print(cm)"
   ]
  },
  {
   "cell_type": "code",
   "execution_count": null,
   "metadata": {},
   "outputs": [],
   "source": []
  },
  {
   "cell_type": "markdown",
   "metadata": {},
   "source": [
    "#### GaussianNB"
   ]
  },
  {
   "cell_type": "code",
   "execution_count": null,
   "metadata": {},
   "outputs": [],
   "source": [
    "gnb_model = GaussianNB()\n",
    "gnb_model.fit(x_train, y_train)\n",
    "gnb_model.score(x_test, y_test)"
   ]
  },
  {
   "cell_type": "code",
   "execution_count": null,
   "metadata": {},
   "outputs": [],
   "source": [
    "cm = confusion_matrix(y_test, gnb_model.predict(x_test))\n",
    "print(cm)"
   ]
  },
  {
   "cell_type": "code",
   "execution_count": null,
   "metadata": {},
   "outputs": [],
   "source": []
  },
  {
   "cell_type": "markdown",
   "metadata": {},
   "source": [
    "#### SGDClassifier"
   ]
  },
  {
   "cell_type": "code",
   "execution_count": null,
   "metadata": {},
   "outputs": [],
   "source": [
    "sgdc_model = SGDClassifier()\n",
    "sgdc_model.fit(x_train, y_train)\n",
    "sgdc_model.score(x_test, y_test)"
   ]
  },
  {
   "cell_type": "code",
   "execution_count": null,
   "metadata": {},
   "outputs": [],
   "source": [
    "cm = confusion_matrix(y_test, sgdc_model.predict(x_test))\n",
    "print(cm)"
   ]
  },
  {
   "cell_type": "code",
   "execution_count": null,
   "metadata": {},
   "outputs": [],
   "source": []
  },
  {
   "cell_type": "markdown",
   "metadata": {},
   "source": [
    "#### DecisionTreeClassifier"
   ]
  },
  {
   "cell_type": "code",
   "execution_count": null,
   "metadata": {},
   "outputs": [],
   "source": [
    "dtc_model = DecisionTreeClassifier()\n",
    "dtc_model.fit(x_train, y_train)"
   ]
  },
  {
   "cell_type": "code",
   "execution_count": null,
   "metadata": {},
   "outputs": [],
   "source": [
    "cm = confusion_matrix(y_test, dtc_model.predict(x_test))\n",
    "print(cm)"
   ]
  },
  {
   "cell_type": "code",
   "execution_count": null,
   "metadata": {},
   "outputs": [],
   "source": [
    "print(metrics.classification_report(y_test, dtc_model.predict(x_test)))"
   ]
  },
  {
   "cell_type": "code",
   "execution_count": null,
   "metadata": {},
   "outputs": [],
   "source": []
  },
  {
   "cell_type": "markdown",
   "metadata": {},
   "source": [
    "#### Perceptron"
   ]
  },
  {
   "cell_type": "code",
   "execution_count": null,
   "metadata": {},
   "outputs": [],
   "source": [
    "perceptron = Perceptron()\n",
    "perceptron.fit(x_train, y_train)\n",
    "perceptron.score(x_test, y_test)"
   ]
  },
  {
   "cell_type": "code",
   "execution_count": null,
   "metadata": {},
   "outputs": [],
   "source": [
    "cm = confusion_matrix(y_test, perceptron.predict(x_test))\n",
    "print(cm)"
   ]
  },
  {
   "cell_type": "code",
   "execution_count": null,
   "metadata": {},
   "outputs": [],
   "source": []
  },
  {
   "cell_type": "code",
   "execution_count": null,
   "metadata": {},
   "outputs": [],
   "source": []
  },
  {
   "cell_type": "code",
   "execution_count": null,
   "metadata": {},
   "outputs": [],
   "source": []
  },
  {
   "cell_type": "markdown",
   "metadata": {},
   "source": [
    "### submission file"
   ]
  },
  {
   "cell_type": "code",
   "execution_count": null,
   "metadata": {},
   "outputs": [],
   "source": [
    "print(A)"
   ]
  },
  {
   "cell_type": "code",
   "execution_count": 473,
   "metadata": {},
   "outputs": [
    {
     "name": "stderr",
     "output_type": "stream",
     "text": [
      "[Parallel(n_jobs=4)]: Using backend ThreadingBackend with 4 concurrent workers.\n",
      "[Parallel(n_jobs=4)]: Done  42 tasks      | elapsed:    0.1s\n",
      "[Parallel(n_jobs=4)]: Done 192 tasks      | elapsed:    0.8s\n",
      "[Parallel(n_jobs=4)]: Done 442 tasks      | elapsed:    1.9s\n",
      "[Parallel(n_jobs=4)]: Done 792 tasks      | elapsed:    3.4s\n",
      "[Parallel(n_jobs=4)]: Done 1100 out of 1100 | elapsed:    4.7s finished\n"
     ]
    }
   ],
   "source": [
    "u = rfc_model.predict(test3)"
   ]
  },
  {
   "cell_type": "code",
   "execution_count": 474,
   "metadata": {},
   "outputs": [
    {
     "data": {
      "text/html": [
       "<div>\n",
       "<style scoped>\n",
       "    .dataframe tbody tr th:only-of-type {\n",
       "        vertical-align: middle;\n",
       "    }\n",
       "\n",
       "    .dataframe tbody tr th {\n",
       "        vertical-align: top;\n",
       "    }\n",
       "\n",
       "    .dataframe thead th {\n",
       "        text-align: right;\n",
       "    }\n",
       "</style>\n",
       "<table border=\"1\" class=\"dataframe\">\n",
       "  <thead>\n",
       "    <tr style=\"text-align: right;\">\n",
       "      <th></th>\n",
       "      <th>ID</th>\n",
       "      <th>0</th>\n",
       "    </tr>\n",
       "  </thead>\n",
       "  <tbody>\n",
       "    <tr>\n",
       "      <th>0</th>\n",
       "      <td>F00000002</td>\n",
       "      <td>1</td>\n",
       "    </tr>\n",
       "    <tr>\n",
       "      <th>1</th>\n",
       "      <td>F00000007</td>\n",
       "      <td>1</td>\n",
       "    </tr>\n",
       "    <tr>\n",
       "      <th>2</th>\n",
       "      <td>F00000011</td>\n",
       "      <td>1</td>\n",
       "    </tr>\n",
       "    <tr>\n",
       "      <th>3</th>\n",
       "      <td>F00000013</td>\n",
       "      <td>1</td>\n",
       "    </tr>\n",
       "    <tr>\n",
       "      <th>4</th>\n",
       "      <td>F00000014</td>\n",
       "      <td>1</td>\n",
       "    </tr>\n",
       "  </tbody>\n",
       "</table>\n",
       "</div>"
      ],
      "text/plain": [
       "          ID  0\n",
       "0  F00000002  1\n",
       "1  F00000007  1\n",
       "2  F00000011  1\n",
       "3  F00000013  1\n",
       "4  F00000014  1"
      ]
     },
     "execution_count": 474,
     "metadata": {},
     "output_type": "execute_result"
    }
   ],
   "source": [
    "u = pd.DataFrame(u)\n",
    "r = pd.concat([test.ID, u], axis=1)\n",
    "r.head()"
   ]
  },
  {
   "cell_type": "code",
   "execution_count": 475,
   "metadata": {},
   "outputs": [],
   "source": [
    "r.to_csv('sub3.csv')"
   ]
  },
  {
   "cell_type": "code",
   "execution_count": null,
   "metadata": {},
   "outputs": [],
   "source": [
    "z = pd.read_csv('sub2.csv')\n",
    "z.Crop_Damage.value_counts()"
   ]
  },
  {
   "cell_type": "code",
   "execution_count": null,
   "metadata": {},
   "outputs": [],
   "source": []
  }
 ],
 "metadata": {
  "kernelspec": {
   "display_name": "Python 3",
   "language": "python",
   "name": "python3"
  },
  "language_info": {
   "codemirror_mode": {
    "name": "ipython",
    "version": 3
   },
   "file_extension": ".py",
   "mimetype": "text/x-python",
   "name": "python",
   "nbconvert_exporter": "python",
   "pygments_lexer": "ipython3",
   "version": "3.6.2"
  }
 },
 "nbformat": 4,
 "nbformat_minor": 2
}
